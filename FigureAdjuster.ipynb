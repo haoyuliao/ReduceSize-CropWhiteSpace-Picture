{
 "cells": [
  {
   "cell_type": "code",
   "execution_count": 1,
   "id": "c50a24dc-065d-4fbc-ba28-8ce146509784",
   "metadata": {},
   "outputs": [
    {
     "name": "stdout",
     "output_type": "stream",
     "text": [
      "Image successfully reduced to 0.77 MB.\n"
     ]
    }
   ],
   "source": [
    "from PIL import Image\n",
    "import os\n",
    "\n",
    "def reduce_tiff_size(input_path, output_path, target_size_mb=15, dpi=600):\n",
    "    # Convert MB to bytes\n",
    "    target_size_bytes = target_size_mb * 1024 * 1024\n",
    "    \n",
    "    # Open the original TIFF image\n",
    "    with Image.open(input_path) as img:\n",
    "        # Set initial quality and check size\n",
    "        quality = 95\n",
    "        img.save(output_path, dpi=(dpi, dpi), compression=\"tiff_lzw\")\n",
    "        \n",
    "        # Check size and iteratively reduce quality if needed\n",
    "        while os.path.getsize(output_path) > target_size_bytes and quality > 10:\n",
    "            quality -= 5  # Reduce quality gradually\n",
    "            img.save(output_path, dpi=(dpi, dpi), compression=\"tiff_lzw\", quality=quality)\n",
    "\n",
    "        # Final check if the file size is still too large\n",
    "        if os.path.getsize(output_path) > target_size_bytes:\n",
    "            print(\"Warning: Could not reach target size without significant quality loss.\")\n",
    "        else:\n",
    "            print(f\"Image successfully reduced to {os.path.getsize(output_path) / (1024 * 1024):.2f} MB.\")\n",
    "\n",
    "# Example usage\n",
    "input_tiff = \"Fig7a.tiff\"\n",
    "output_tiff = \"Fig7ar.tiff\"\n",
    "\n",
    "reduce_tiff_size(input_tiff, output_tiff)\n"
   ]
  },
  {
   "cell_type": "code",
   "execution_count": 7,
   "id": "c7f139cb-ded2-491c-9514-fc20eb7aaec9",
   "metadata": {},
   "outputs": [
    {
     "name": "stdout",
     "output_type": "stream",
     "text": [
      "Image successfully reduced to 0.64 MB.\n"
     ]
    }
   ],
   "source": [
    "from PIL import Image, ImageChops\n",
    "import os\n",
    "\n",
    "def reduce_and_crop_tiff(input_path, output_path, target_size_mb=15, dpi=600):\n",
    "    # Convert MB to bytes\n",
    "    target_size_bytes = target_size_mb * 1024 * 1024\n",
    "\n",
    "    # Open the TIFF image\n",
    "    with Image.open(input_path) as img:\n",
    "        # Convert to RGB (if image is not in RGB mode)\n",
    "        if img.mode != \"RGB\":\n",
    "            img = img.convert(\"RGB\")\n",
    "\n",
    "        # Crop redundant space (assumed to be white background)\n",
    "        bg = Image.new(\"RGB\", img.size, (255, 255, 255))\n",
    "        diff = ImageChops.difference(img, bg)\n",
    "        bbox = diff.getbbox()\n",
    "        if bbox:\n",
    "            img = img.crop(bbox)\n",
    "\n",
    "        # Save cropped image with initial settings\n",
    "        img.save(output_path, dpi=(dpi, dpi), compression=\"tiff_lzw\")\n",
    "\n",
    "        # Reduce file size iteratively if needed\n",
    "        quality = 95\n",
    "        while os.path.getsize(output_path) > target_size_bytes and quality > 10:\n",
    "            quality -= 5  # Decrease quality step by step\n",
    "            img.save(output_path, dpi=(dpi, dpi), compression=\"tiff_lzw\", quality=quality)\n",
    "\n",
    "        # Final check if file is within size limits\n",
    "        final_size_mb = os.path.getsize(output_path) / (1024 * 1024)\n",
    "        if final_size_mb > target_size_mb:\n",
    "            print(\"Warning: Could not reach target size without significant quality loss.\")\n",
    "        else:\n",
    "            print(f\"Image successfully reduced to {final_size_mb:.2f} MB.\")\n",
    "\n",
    "# Example usage\n",
    "input_tiff = \"BNN.tiff\"\n",
    "output_tiff = \"Fig7cr.tiff\"\n",
    "\n",
    "reduce_and_crop_tiff(input_tiff, output_tiff)\n"
   ]
  },
  {
   "cell_type": "code",
   "execution_count": null,
   "id": "4ddafd38-6c70-4ed4-88e1-f730a33df83c",
   "metadata": {},
   "outputs": [],
   "source": []
  }
 ],
 "metadata": {
  "kernelspec": {
   "display_name": "Python 3 (ipykernel)",
   "language": "python",
   "name": "python3"
  },
  "language_info": {
   "codemirror_mode": {
    "name": "ipython",
    "version": 3
   },
   "file_extension": ".py",
   "mimetype": "text/x-python",
   "name": "python",
   "nbconvert_exporter": "python",
   "pygments_lexer": "ipython3",
   "version": "3.11.7"
  }
 },
 "nbformat": 4,
 "nbformat_minor": 5
}
