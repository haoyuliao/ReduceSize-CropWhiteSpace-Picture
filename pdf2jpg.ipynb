{
 "cells": [
  {
   "cell_type": "code",
   "execution_count": 3,
   "id": "c3cd1e1f-fde5-40cb-964b-04099003927b",
   "metadata": {},
   "outputs": [
    {
     "name": "stdout",
     "output_type": "stream",
     "text": [
      "Conversion completed successfully.\n"
     ]
    }
   ],
   "source": [
    "import fitz  # PyMuPDF\n",
    "from PIL import Image, ImageOps\n",
    "import io\n",
    "\n",
    "def extract_image_from_pdf(pdf_path, output_path):\n",
    "    # Open the PDF file\n",
    "    doc = fitz.open(pdf_path)\n",
    "\n",
    "    # Extract image from the first (and only) page\n",
    "    page = doc[0]\n",
    "    images = page.get_images(full=True)\n",
    "\n",
    "    if not images:\n",
    "        print(\"No images found in the PDF.\")\n",
    "        return\n",
    "\n",
    "    # Extract the first image (assuming only one image in the PDF)\n",
    "    xref = images[0][0]\n",
    "    base_image = doc.extract_image(xref)\n",
    "    image_bytes = base_image[\"image\"]\n",
    "\n",
    "    # Convert image bytes to a PIL image\n",
    "    img = Image.open(io.BytesIO(image_bytes))\n",
    "\n",
    "    # Convert to RGB (in case the image is not already in RGB mode)\n",
    "    img = img.convert(\"RGB\")\n",
    "\n",
    "    # Trim white space using getbbox method\n",
    "    img = ImageOps.exif_transpose(img)  # Fix orientation if needed\n",
    "    img = img.crop(img.getbbox())  # Remove\n",
    "\n",
    "\n",
    "# Example usage\n",
    "pdf_to_jpg(\"StudyArea.pdf\", \"StudyArea\")\n"
   ]
  },
  {
   "cell_type": "code",
   "execution_count": 12,
   "id": "3e990082-ea36-435c-8334-4c811cfb7655",
   "metadata": {},
   "outputs": [
    {
     "name": "stdout",
     "output_type": "stream",
     "text": [
      "Successfully converted and saved as StudyArea.jpg\n"
     ]
    }
   ],
   "source": [
    "from pdf2image import convert_from_path\n",
    "\n",
    "def pdf_to_jpg(pdf_path, output_path, dpi=600):\n",
    "    poppler_path = r'./poppler-24.08.0/Library/bin'  # Update with your Poppler bin path\n",
    "    images = convert_from_path(pdf_path, dpi=dpi, poppler_path=poppler_path)\n",
    "\n",
    "    if images:\n",
    "        images[0].save(output_path, 'JPEG')\n",
    "        print(f\"Successfully converted and saved as {output_path}\")\n",
    "    else:\n",
    "        print(\"No pages found in the PDF.\")\n",
    "\n",
    "\n",
    "# Example usage\n",
    "pdf_to_jpg(\"StudyArea.pdf\", \"StudyArea.jpg\")\n"
   ]
  },
  {
   "cell_type": "code",
   "execution_count": null,
   "id": "3fbe0412-25c4-473a-b36c-2a1f1aceeb30",
   "metadata": {},
   "outputs": [],
   "source": [
    "from pdf2image import convert_from_path\n",
    "from PIL import Image, ImageChops\n",
    "\n",
    "def pdf_to_cropped_jpg(pdf_path, output_path, dpi=600, poppler_path=None):\n",
    "    # Convert PDF to list of images\n",
    "    images = convert_from_path(pdf_path, dpi=dpi, poppler_path=poppler_path)\n",
    "\n",
    "    if images:\n",
    "        # Get the first page image\n",
    "        img = images[0]\n",
    "\n",
    "        # Trim the image (remove whitespace)\n",
    "        img = trim_image(img)\n",
    "\n",
    "        # Save the cropped image\n",
    "        img.save(output_path, 'JPEG')\n",
    "        print(f\"Successfully converted and saved cropped image as {output_path}\")\n",
    "    else:\n",
    "        print(\"No pages found in the PDF.\")\n",
    "\n",
    "def trim_image(image):\n",
    "    \"\"\"Remove whitespace from image.\"\"\"\n",
    "    bg = Image.new(image.mode, image.size, image.getpixel((0, 0)))\n",
    "    diff = ImageChops.difference(image, bg)\n",
    "    diff = ImageChops.add(diff, diff, 2.0, -100)\n",
    "    bbox = diff.getbbox()\n",
    "    if bbox:\n",
    "        return image.crop(bbox)\n",
    "    return image  # No whitespace to trim\n",
    "\n",
    "# Example usage\n",
    "poppler_bin_path = r\"C:\\poppler-XX.XX.0\\Library\\bin\"  # Update with your Poppler path\n",
    "pdf_to_cropped_jpg('StudyArea.pdf', 'StudyArea.jpg', poppler_path=poppler_bin_path)\n"
   ]
  }
 ],
 "metadata": {
  "kernelspec": {
   "display_name": "Python 3 (ipykernel)",
   "language": "python",
   "name": "python3"
  },
  "language_info": {
   "codemirror_mode": {
    "name": "ipython",
    "version": 3
   },
   "file_extension": ".py",
   "mimetype": "text/x-python",
   "name": "python",
   "nbconvert_exporter": "python",
   "pygments_lexer": "ipython3",
   "version": "3.8.19"
  }
 },
 "nbformat": 4,
 "nbformat_minor": 5
}
